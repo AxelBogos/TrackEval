{
 "cells": [
  {
   "cell_type": "code",
   "execution_count": 1,
   "id": "initial_id",
   "metadata": {
    "collapsed": true,
    "ExecuteTime": {
     "end_time": "2023-12-14T19:13:53.079250900Z",
     "start_time": "2023-12-14T19:13:52.788281900Z"
    }
   },
   "outputs": [],
   "source": [
    "import pandas as pd\n",
    "from pathlib import Path"
   ]
  },
  {
   "cell_type": "code",
   "execution_count": 15,
   "outputs": [],
   "source": [
    "base_path_mot17 = Path(\"data\",\"trackers\",\"mot_challenge\",\"MOT17-train\")\n",
    "base_path_mot16 = Path(\"data\",\"trackers\",\"mot_challenge\",\"MOT16-train\")"
   ],
   "metadata": {
    "collapsed": false,
    "ExecuteTime": {
     "end_time": "2023-12-14T19:58:50.247496100Z",
     "start_time": "2023-12-14T19:58:50.238984300Z"
    }
   },
   "id": "b4787bd3ee649e"
  },
  {
   "cell_type": "code",
   "execution_count": 38,
   "outputs": [],
   "source": [
    "curr_dir = Path(base_path_mot16,\"deepsort-yolov8x_finetuned\")\n",
    "df = pd.read_csv(Path(curr_dir,\"pedestrian_detailed.csv\"))"
   ],
   "metadata": {
    "collapsed": false,
    "ExecuteTime": {
     "end_time": "2023-12-14T22:09:09.696678500Z",
     "start_time": "2023-12-14T22:09:09.670131900Z"
    }
   },
   "id": "4bee60918f0f9737"
  },
  {
   "cell_type": "code",
   "execution_count": 39,
   "outputs": [
    {
     "data": {
      "text/plain": "(Series([], Name: MOTA, dtype: float64),\n 0.7977787755533252,\n Series([], Name: HOTA(0), dtype: float64),\n 0.6838543123768889,\n Series([], Name: IDF1, dtype: float64),\n 0.5903630820920315)"
     },
     "execution_count": 39,
     "metadata": {},
     "output_type": "execute_result"
    }
   ],
   "source": [
    "df['detector'] = df['seq'].str.extract(r'-(DPM|FRCNN|SDP)$')\n",
    "mean_hota_by_detector = df[df['seq'] != 'COMBINED'].groupby('detector')['HOTA(0)'].mean()\n",
    "mean_mota_by_detector = df[df['seq'] != 'COMBINED'].groupby('detector')['MOTA'].mean()\n",
    "mean_idf1_by_detector = df[df['seq'] != 'COMBINED'].groupby('detector')['IDF1'].mean()\n",
    "# Extract the combined total avg\n",
    "combined_total_avg_hota = df[df['seq'] == 'COMBINED']['HOTA(0)'].iloc[0]\n",
    "combined_total_avg_mota = df[df['seq'] == 'COMBINED']['MOTA'].iloc[0]\n",
    "combined_total_avg_idf1 = df[df['seq'] == 'COMBINED']['IDF1'].iloc[0]\n",
    "\n",
    "mean_mota_by_detector, combined_total_avg_mota, mean_hota_by_detector, combined_total_avg_hota, mean_idf1_by_detector, combined_total_avg_idf1"
   ],
   "metadata": {
    "collapsed": false,
    "ExecuteTime": {
     "end_time": "2023-12-14T22:09:10.163269500Z",
     "start_time": "2023-12-14T22:09:10.141541300Z"
    }
   },
   "id": "ccf3d3b747821a4f"
  },
  {
   "cell_type": "code",
   "execution_count": null,
   "outputs": [],
   "source": [],
   "metadata": {
    "collapsed": false
   },
   "id": "ae675b97000c69ac"
  }
 ],
 "metadata": {
  "kernelspec": {
   "display_name": "Python 3",
   "language": "python",
   "name": "python3"
  },
  "language_info": {
   "codemirror_mode": {
    "name": "ipython",
    "version": 2
   },
   "file_extension": ".py",
   "mimetype": "text/x-python",
   "name": "python",
   "nbconvert_exporter": "python",
   "pygments_lexer": "ipython2",
   "version": "2.7.6"
  }
 },
 "nbformat": 4,
 "nbformat_minor": 5
}
